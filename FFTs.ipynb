{
 "cells": [
  {
   "cell_type": "code",
   "execution_count": 1,
   "metadata": {
    "collapsed": false
   },
   "outputs": [],
   "source": [
    "%matplotlib inline\n",
    "import numpy as np\n",
    "import matplotlib.pyplot as plt\n",
    "from scipy.io import wavfile as wav\n",
    "from scipy.fftpack import fft,rfft\n",
    "from random import randint, uniform\n",
    "from struct import pack\n",
    "import seaborn\n",
    "import pyaudio\n",
    "import csv"
   ]
  },
  {
   "cell_type": "code",
   "execution_count": 2,
   "metadata": {
    "collapsed": true
   },
   "outputs": [],
   "source": [
    "rate = 41400"
   ]
  },
  {
   "cell_type": "code",
   "execution_count": 3,
   "metadata": {
    "collapsed": true
   },
   "outputs": [],
   "source": [
    "def playSound(sound):\n",
    "    p = pyaudio.PyAudio()\n",
    "    stream = p.open(format = pyaudio.paInt16, \n",
    "        channels = 1, \n",
    "        rate = 41400, \n",
    "        output = True)\n",
    "    stream.write(sound)\n",
    "    stream.stop_stream()\n",
    "    stream.close()\n",
    "    p.terminate()"
   ]
  },
  {
   "cell_type": "code",
   "execution_count": 4,
   "metadata": {
    "collapsed": true
   },
   "outputs": [],
   "source": [
    "def genFFT(sound):\n",
    "    fft_out = [int(i) for i in abs(rfft(data).real)]\n",
    "    return fft_out[:10000]"
   ]
  },
  {
   "cell_type": "code",
   "execution_count": 5,
   "metadata": {
    "collapsed": true
   },
   "outputs": [],
   "source": [
    "def getNote(string,fret):\n",
    "    # one/zero base conversion\n",
    "    string -= 1\n",
    "    fret -= 1\n",
    "    strings = [('G',4),('C',4),('E',4),('A',4)]\n",
    "    notes = ['C','Cs','D','Ds','E','F','Fs','G','Gs','A','As','B']\n",
    "    \n",
    "    temp = notes.index(strings[string][0]) + fret\n",
    "    note = notes[temp % len(notes)]\n",
    "    octave = (temp // len(notes)) + strings[string][1]\n",
    "    \n",
    "    return note + str(octave)"
   ]
  },
  {
   "cell_type": "code",
   "execution_count": 6,
   "metadata": {
    "collapsed": true
   },
   "outputs": [],
   "source": [
    "def genHeaders(full):\n",
    "    headers = ['C4','Cs4','D4','Ds4','E4','F4','Fs4','G4','Gs4','A4','As4','B4','C5','Cs5','D5','Ds5','E5','F5','Fs5','G5','Gs5','A5','As5','B5','C6','Cs6']\n",
    "    if full:\n",
    "        for i in range(22050):\n",
    "            headers.append('fft_' + str(i))\n",
    "    return headers"
   ]
  },
  {
   "cell_type": "code",
   "execution_count": 7,
   "metadata": {
    "collapsed": true
   },
   "outputs": [],
   "source": [
    "def genY(ys):\n",
    "    headers = genHeaders(False)\n",
    "    output = [0] * len(headers)\n",
    "    for y in ys:\n",
    "        output[headers.index(y)] = 1\n",
    "    return output"
   ]
  },
  {
   "cell_type": "code",
   "execution_count": 10,
   "metadata": {
    "collapsed": false
   },
   "outputs": [],
   "source": [
    "def genRow():\n",
    "    strings = randint(1,4)\n",
    "    sound = []\n",
    "    label = []\n",
    "    for string in range(1,strings+1):\n",
    "        fret = randint(1,17)\n",
    "        rate,data = wav.read('ukulele-training-data/%i-%i.wav' % (string,fret))\n",
    "        duration = len(data) / rate\n",
    "        wiggle_room = duration - 1\n",
    "        delta = uniform(0,wiggle_room)\n",
    "        start,end = int(delta*rate),int((delta+1)*rate)\n",
    "        if len(sound) == 0:\n",
    "            output = data[start:end]\n",
    "        else:\n",
    "            output = []\n",
    "            for one,two in zip(sound,data[start:end]):\n",
    "                output.append(np.int16((int(one)+int(two))/2))\n",
    "        sound = np.array(output)\n",
    "        label.append(getNote(string,fret))\n",
    "        \n",
    "    first = sound[:int(rate/2)]\n",
    "    second = sound[int(rate/4):3*int(rate/4)]\n",
    "    third = sound[int(rate/2):]\n",
    "    \n",
    "    x = list(first + second + third)\n",
    "    y = genY(label)\n",
    "    \n",
    "    return y + x\n",
    "        "
   ]
  },
  {
   "cell_type": "code",
   "execution_count": 11,
   "metadata": {
    "collapsed": false
   },
   "outputs": [],
   "source": [
    "with open('train_ukulele.csv', 'w', newline='') as csvfile:\n",
    "    writer = csv.writer(csvfile, delimiter=',', quotechar='\\\\', quoting=csv.QUOTE_MINIMAL)\n",
    "    writer.writerow(genHeaders(True))\n",
    "    for i in range(20000000):\n",
    "        writer.writerow(genRow())\n",
    "        if i % 2000000 == 0:\n",
    "            print(str(i) + '%... ')"
   ]
  }
 ],
 "metadata": {
  "kernelspec": {
   "display_name": "Python 3",
   "language": "python",
   "name": "python3"
  },
  "language_info": {
   "codemirror_mode": {
    "name": "ipython",
    "version": 3
   },
   "file_extension": ".py",
   "mimetype": "text/x-python",
   "name": "python",
   "nbconvert_exporter": "python",
   "pygments_lexer": "ipython3",
   "version": "3.5.0"
  }
 },
 "nbformat": 4,
 "nbformat_minor": 2
}
